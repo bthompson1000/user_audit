{
 "cells": [
  {
   "cell_type": "code",
   "execution_count": 143,
   "metadata": {},
   "outputs": [
    {
     "data": {
      "text/html": [
       "<div>\n",
       "<style scoped>\n",
       "    .dataframe tbody tr th:only-of-type {\n",
       "        vertical-align: middle;\n",
       "    }\n",
       "\n",
       "    .dataframe tbody tr th {\n",
       "        vertical-align: top;\n",
       "    }\n",
       "\n",
       "    .dataframe thead th {\n",
       "        text-align: right;\n",
       "    }\n",
       "</style>\n",
       "<table border=\"1\" class=\"dataframe\">\n",
       "  <thead>\n",
       "    <tr style=\"text-align: right;\">\n",
       "      <th></th>\n",
       "      <th>employee_number</th>\n",
       "      <th>first_name</th>\n",
       "      <th>last_name</th>\n",
       "      <th>email</th>\n",
       "      <th>title</th>\n",
       "    </tr>\n",
       "  </thead>\n",
       "  <tbody>\n",
       "    <tr>\n",
       "      <th>0</th>\n",
       "      <td>EMP003037</td>\n",
       "      <td>Juliana</td>\n",
       "      <td>Burbudge</td>\n",
       "      <td>juliana.burbudge@consultants.com</td>\n",
       "      <td>Director of Sales</td>\n",
       "    </tr>\n",
       "    <tr>\n",
       "      <th>1</th>\n",
       "      <td>EMP003045</td>\n",
       "      <td>Lizzie</td>\n",
       "      <td>Blue</td>\n",
       "      <td>lizzie.blue@consultants.com</td>\n",
       "      <td>Sales Assistant</td>\n",
       "    </tr>\n",
       "    <tr>\n",
       "      <th>2</th>\n",
       "      <td>EMP003051</td>\n",
       "      <td>Marjory</td>\n",
       "      <td>Selcraig</td>\n",
       "      <td>marjory.selcraig@consultants.com</td>\n",
       "      <td>Sales Assistant</td>\n",
       "    </tr>\n",
       "    <tr>\n",
       "      <th>3</th>\n",
       "      <td>EMP003068</td>\n",
       "      <td>Aguste</td>\n",
       "      <td>O'Connor</td>\n",
       "      <td>aguste.o'connor@consultants.com</td>\n",
       "      <td>Sales Assistant</td>\n",
       "    </tr>\n",
       "    <tr>\n",
       "      <th>4</th>\n",
       "      <td>EMP003097</td>\n",
       "      <td>Clemens</td>\n",
       "      <td>Kopman</td>\n",
       "      <td>clemens.kopman@consultants.com</td>\n",
       "      <td>Account Manager</td>\n",
       "    </tr>\n",
       "  </tbody>\n",
       "</table>\n",
       "</div>"
      ],
      "text/plain": [
       "  employee_number first_name last_name                             email  \\\n",
       "0       EMP003037    Juliana  Burbudge  juliana.burbudge@consultants.com   \n",
       "1       EMP003045     Lizzie      Blue       lizzie.blue@consultants.com   \n",
       "2       EMP003051    Marjory  Selcraig  marjory.selcraig@consultants.com   \n",
       "3       EMP003068     Aguste  O'Connor   aguste.o'connor@consultants.com   \n",
       "4       EMP003097    Clemens    Kopman    clemens.kopman@consultants.com   \n",
       "\n",
       "               title  \n",
       "0  Director of Sales  \n",
       "1    Sales Assistant  \n",
       "2    Sales Assistant  \n",
       "3    Sales Assistant  \n",
       "4    Account Manager  "
      ]
     },
     "execution_count": 143,
     "metadata": {},
     "output_type": "execute_result"
    }
   ],
   "source": [
    "import pandas as pd\n",
    "employees = pd.read_csv (r'C:\\Users\\firne\\bip-python-unh\\user_audit\\data\\employees.csv')\n",
    "system = pd.read_csv (r'C:\\Users\\firne\\bip-python-unh\\user_audit\\data\\system_access.csv')\n",
    "system.rename(columns={'id':'employee_number'}, inplace=True)\n",
    "employees.head()"
   ]
  },
  {
   "cell_type": "code",
   "execution_count": 144,
   "metadata": {},
   "outputs": [],
   "source": [
    "system['employee_number'] = system['employee_number'].astype(str)\n",
    "system['employee_number'] = system['employee_number'].apply(lambda x: x.zfill(6))\n",
    "employees['employee_number'] = employees['employee_number'].str[3:]"
   ]
  },
  {
   "cell_type": "code",
   "execution_count": 145,
   "metadata": {},
   "outputs": [
    {
     "data": {
      "text/html": [
       "<div>\n",
       "<style scoped>\n",
       "    .dataframe tbody tr th:only-of-type {\n",
       "        vertical-align: middle;\n",
       "    }\n",
       "\n",
       "    .dataframe tbody tr th {\n",
       "        vertical-align: top;\n",
       "    }\n",
       "\n",
       "    .dataframe thead th {\n",
       "        text-align: right;\n",
       "    }\n",
       "</style>\n",
       "<table border=\"1\" class=\"dataframe\">\n",
       "  <thead>\n",
       "    <tr style=\"text-align: right;\">\n",
       "      <th></th>\n",
       "      <th>first_name</th>\n",
       "      <th>last_name</th>\n",
       "      <th>email</th>\n",
       "      <th>title</th>\n",
       "      <th>access_level</th>\n",
       "    </tr>\n",
       "    <tr>\n",
       "      <th>employee_number</th>\n",
       "      <th></th>\n",
       "      <th></th>\n",
       "      <th></th>\n",
       "      <th></th>\n",
       "      <th></th>\n",
       "    </tr>\n",
       "  </thead>\n",
       "  <tbody>\n",
       "    <tr>\n",
       "      <th>003037</th>\n",
       "      <td>Juliana</td>\n",
       "      <td>Burbudge</td>\n",
       "      <td>juliana.burbudge@consultants.com</td>\n",
       "      <td>Director of Sales</td>\n",
       "      <td>NaN</td>\n",
       "    </tr>\n",
       "    <tr>\n",
       "      <th>003045</th>\n",
       "      <td>Lizzie</td>\n",
       "      <td>Blue</td>\n",
       "      <td>lizzie.blue@consultants.com</td>\n",
       "      <td>Sales Assistant</td>\n",
       "      <td>Contract Entry</td>\n",
       "    </tr>\n",
       "    <tr>\n",
       "      <th>003051</th>\n",
       "      <td>Marjory</td>\n",
       "      <td>Selcraig</td>\n",
       "      <td>marjory.selcraig@consultants.com</td>\n",
       "      <td>Sales Assistant</td>\n",
       "      <td>Contract Entry</td>\n",
       "    </tr>\n",
       "    <tr>\n",
       "      <th>003068</th>\n",
       "      <td>Aguste</td>\n",
       "      <td>O'Connor</td>\n",
       "      <td>aguste.o'connor@consultants.com</td>\n",
       "      <td>Sales Assistant</td>\n",
       "      <td>Contract Entry</td>\n",
       "    </tr>\n",
       "    <tr>\n",
       "      <th>003097</th>\n",
       "      <td>Clemens</td>\n",
       "      <td>Kopman</td>\n",
       "      <td>clemens.kopman@consultants.com</td>\n",
       "      <td>Account Manager</td>\n",
       "      <td>Account Admin</td>\n",
       "    </tr>\n",
       "  </tbody>\n",
       "</table>\n",
       "</div>"
      ],
      "text/plain": [
       "                first_name last_name                             email  \\\n",
       "employee_number                                                          \n",
       "003037             Juliana  Burbudge  juliana.burbudge@consultants.com   \n",
       "003045              Lizzie      Blue       lizzie.blue@consultants.com   \n",
       "003051             Marjory  Selcraig  marjory.selcraig@consultants.com   \n",
       "003068              Aguste  O'Connor   aguste.o'connor@consultants.com   \n",
       "003097             Clemens    Kopman    clemens.kopman@consultants.com   \n",
       "\n",
       "                             title    access_level  \n",
       "employee_number                                     \n",
       "003037           Director of Sales             NaN  \n",
       "003045             Sales Assistant  Contract Entry  \n",
       "003051             Sales Assistant  Contract Entry  \n",
       "003068             Sales Assistant  Contract Entry  \n",
       "003097             Account Manager   Account Admin  "
      ]
     },
     "execution_count": 145,
     "metadata": {},
     "output_type": "execute_result"
    }
   ],
   "source": [
    "employees.set_index('employee_number', inplace=True)\n",
    "system.set_index('employee_number', inplace=True)\n",
    "df = employees.join(system, how= 'left')\n",
    "system['access_level'] = system['access_level'].astype(str)\n",
    "df.head()"
   ]
  },
  {
   "cell_type": "code",
   "execution_count": 146,
   "metadata": {},
   "outputs": [
    {
     "ename": "ValueError",
     "evalue": "expr must be a string to be evaluated, <class 'bool'> given",
     "output_type": "error",
     "traceback": [
      "\u001b[1;31m---------------------------------------------------------------------------\u001b[0m",
      "\u001b[1;31mValueError\u001b[0m                                Traceback (most recent call last)",
      "\u001b[1;32m<ipython-input-146-067e9397eaa9>\u001b[0m in \u001b[0;36m<module>\u001b[1;34m\u001b[0m\n\u001b[1;32m----> 1\u001b[1;33m \u001b[0mnewdf\u001b[0m \u001b[1;33m=\u001b[0m \u001b[0mdf\u001b[0m\u001b[1;33m.\u001b[0m\u001b[0mquery\u001b[0m\u001b[1;33m(\u001b[0m\u001b[1;34m'access_level'\u001b[0m \u001b[1;33m==\u001b[0m \u001b[1;34m\"NaN\"\u001b[0m\u001b[1;33m)\u001b[0m\u001b[1;33m\u001b[0m\u001b[1;33m\u001b[0m\u001b[0m\n\u001b[0m\u001b[0;32m      2\u001b[0m \u001b[0mnewdf\u001b[0m\u001b[1;33m\u001b[0m\u001b[1;33m\u001b[0m\u001b[0m\n",
      "\u001b[1;32m~\\anaconda3\\lib\\site-packages\\pandas\\core\\frame.py\u001b[0m in \u001b[0;36mquery\u001b[1;34m(self, expr, inplace, **kwargs)\u001b[0m\n\u001b[0;32m   3336\u001b[0m         \u001b[1;32mif\u001b[0m \u001b[1;32mnot\u001b[0m \u001b[0misinstance\u001b[0m\u001b[1;33m(\u001b[0m\u001b[0mexpr\u001b[0m\u001b[1;33m,\u001b[0m \u001b[0mstr\u001b[0m\u001b[1;33m)\u001b[0m\u001b[1;33m:\u001b[0m\u001b[1;33m\u001b[0m\u001b[1;33m\u001b[0m\u001b[0m\n\u001b[0;32m   3337\u001b[0m             \u001b[0mmsg\u001b[0m \u001b[1;33m=\u001b[0m \u001b[1;34mf\"expr must be a string to be evaluated, {type(expr)} given\"\u001b[0m\u001b[1;33m\u001b[0m\u001b[1;33m\u001b[0m\u001b[0m\n\u001b[1;32m-> 3338\u001b[1;33m             \u001b[1;32mraise\u001b[0m \u001b[0mValueError\u001b[0m\u001b[1;33m(\u001b[0m\u001b[0mmsg\u001b[0m\u001b[1;33m)\u001b[0m\u001b[1;33m\u001b[0m\u001b[1;33m\u001b[0m\u001b[0m\n\u001b[0m\u001b[0;32m   3339\u001b[0m         \u001b[0mkwargs\u001b[0m\u001b[1;33m[\u001b[0m\u001b[1;34m\"level\"\u001b[0m\u001b[1;33m]\u001b[0m \u001b[1;33m=\u001b[0m \u001b[0mkwargs\u001b[0m\u001b[1;33m.\u001b[0m\u001b[0mpop\u001b[0m\u001b[1;33m(\u001b[0m\u001b[1;34m\"level\"\u001b[0m\u001b[1;33m,\u001b[0m \u001b[1;36m0\u001b[0m\u001b[1;33m)\u001b[0m \u001b[1;33m+\u001b[0m \u001b[1;36m1\u001b[0m\u001b[1;33m\u001b[0m\u001b[1;33m\u001b[0m\u001b[0m\n\u001b[0;32m   3340\u001b[0m         \u001b[0mkwargs\u001b[0m\u001b[1;33m[\u001b[0m\u001b[1;34m\"target\"\u001b[0m\u001b[1;33m]\u001b[0m \u001b[1;33m=\u001b[0m \u001b[1;32mNone\u001b[0m\u001b[1;33m\u001b[0m\u001b[1;33m\u001b[0m\u001b[0m\n",
      "\u001b[1;31mValueError\u001b[0m: expr must be a string to be evaluated, <class 'bool'> given"
     ]
    }
   ],
   "source": [
    "newdf = df.query('access_level' == \"NaN\")\n",
    "newdf"
   ]
  },
  {
   "cell_type": "code",
   "execution_count": null,
   "metadata": {},
   "outputs": [],
   "source": [
    "#.loc to replace values"
   ]
  }
 ],
 "metadata": {
  "kernelspec": {
   "display_name": "Python 3",
   "language": "python",
   "name": "python3"
  },
  "language_info": {
   "codemirror_mode": {
    "name": "ipython",
    "version": 3
   },
   "file_extension": ".py",
   "mimetype": "text/x-python",
   "name": "python",
   "nbconvert_exporter": "python",
   "pygments_lexer": "ipython3",
   "version": "3.8.5"
  }
 },
 "nbformat": 4,
 "nbformat_minor": 4
}
